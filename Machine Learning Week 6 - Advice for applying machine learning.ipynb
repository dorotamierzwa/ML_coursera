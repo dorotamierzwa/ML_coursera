{
 "cells": [
  {
   "cell_type": "code",
   "execution_count": 37,
   "metadata": {
    "collapsed": true
   },
   "outputs": [],
   "source": [
    "import pandas as pd\n",
    "import numpy as np\n",
    "import matplotlib.pyplot as plt\n",
    "import math\n",
    "\n",
    "import scipy\n",
    "from scipy import io\n",
    "import scipy.optimize as opt\n",
    "from sklearn.model_selection import train_test_split\n",
    "pd.options.display.float_format = '{:.2f}'.format\n",
    "\n",
    "%matplotlib inline"
   ]
  },
  {
   "cell_type": "markdown",
   "metadata": {},
   "source": [
    "## Regularized linear regression"
   ]
  },
  {
   "cell_type": "code",
   "execution_count": 38,
   "metadata": {},
   "outputs": [],
   "source": [
    "# read in dataset from the course\n",
    "df = scipy.io.loadmat('/Users/dorotamierzwa/Data Science/Machine Learning - Coursera/machine-learning-ex5/ex5/ex5data1.mat')"
   ]
  },
  {
   "cell_type": "code",
   "execution_count": 39,
   "metadata": {},
   "outputs": [
    {
     "data": {
      "text/plain": [
       "array([[-15.93675813],\n",
       "       [-29.15297922],\n",
       "       [ 36.18954863],\n",
       "       [ 37.49218733],\n",
       "       [-48.05882945],\n",
       "       [ -8.94145794],\n",
       "       [ 15.30779289],\n",
       "       [-34.70626581],\n",
       "       [  1.38915437],\n",
       "       [-44.38375985],\n",
       "       [  7.01350208],\n",
       "       [ 22.76274892]])"
      ]
     },
     "execution_count": 39,
     "metadata": {},
     "output_type": "execute_result"
    }
   ],
   "source": [
    "df['X']"
   ]
  },
  {
   "cell_type": "code",
   "execution_count": 40,
   "metadata": {},
   "outputs": [
    {
     "data": {
      "text/plain": [
       "array([[-16.74653578],\n",
       "       [-14.57747075],\n",
       "       [ 34.51575866],\n",
       "       [-47.01007574],\n",
       "       [ 36.97511905],\n",
       "       [-40.68611002],\n",
       "       [ -4.47201098],\n",
       "       [ 26.53363489],\n",
       "       [-42.7976831 ],\n",
       "       [ 25.37409938],\n",
       "       [-31.10955398],\n",
       "       [ 27.31176864],\n",
       "       [ -3.26386201],\n",
       "       [ -1.81827649],\n",
       "       [-40.7196624 ],\n",
       "       [-50.01324365],\n",
       "       [-17.41177155],\n",
       "       [  3.5881937 ],\n",
       "       [  7.08548026],\n",
       "       [ 46.28236902],\n",
       "       [ 14.61228909]])"
      ]
     },
     "execution_count": 40,
     "metadata": {},
     "output_type": "execute_result"
    }
   ],
   "source": [
    "df['Xval']"
   ]
  },
  {
   "cell_type": "code",
   "execution_count": 41,
   "metadata": {},
   "outputs": [
    {
     "data": {
      "text/plain": [
       "array([[-33.31800399],\n",
       "       [-37.91216403],\n",
       "       [-51.20693795],\n",
       "       [ -6.13259585],\n",
       "       [ 21.26118327],\n",
       "       [-40.31952949],\n",
       "       [-14.54153167],\n",
       "       [ 32.55976024],\n",
       "       [ 13.39343255],\n",
       "       [ 44.20988595],\n",
       "       [ -1.14267768],\n",
       "       [-12.76686065],\n",
       "       [ 34.05450539],\n",
       "       [ 39.22350028],\n",
       "       [  1.97449674],\n",
       "       [ 29.6217551 ],\n",
       "       [-23.66962971],\n",
       "       [ -9.01180139],\n",
       "       [-55.94057091],\n",
       "       [-35.70859752],\n",
       "       [  9.51020533]])"
      ]
     },
     "execution_count": 41,
     "metadata": {},
     "output_type": "execute_result"
    }
   ],
   "source": [
    "df['Xtest']"
   ]
  },
  {
   "cell_type": "code",
   "execution_count": 42,
   "metadata": {},
   "outputs": [
    {
     "data": {
      "image/png": "[encoded data removed]",
      "text/plain": [
       "<matplotlib.figure.Figure at 0x118376080>"
      ]
     },
     "metadata": {},
     "output_type": "display_data"
    }
   ],
   "source": [
    "fig, ax = plt.subplots(figsize=(8,4))\n",
    "plt.scatter(df['X'], df['y'],marker='x')\n",
    "ax.set_ylabel('Water flowing out of the dam')\n",
    "ax.set_xlabel('Change in water levels')\n",
    "ax.set_title('Plot training data');"
   ]
  },
  {
   "cell_type": "markdown",
   "metadata": {},
   "source": [
    "### Ex. 1 Regularized linear regression cost function"
   ]
  },
  {
   "cell_type": "code",
   "execution_count": 43,
   "metadata": {},
   "outputs": [
    {
     "data": {
      "text/plain": [
       "array([[1],\n",
       "       [1]])"
      ]
     },
     "execution_count": 43,
     "metadata": {},
     "output_type": "execute_result"
    }
   ],
   "source": [
    "theta = np.array([[1], [1]])\n",
    "theta"
   ]
  },
  {
   "cell_type": "code",
   "execution_count": 44,
   "metadata": {},
   "outputs": [],
   "source": [
    "X_1 = np.hstack(((np.ones((df['X'].shape[0], 1))), df['X']))\n",
    "Xval_1 = np.hstack(((np.ones((df['Xval'].shape[0], 1))), df['Xval']))"
   ]
  },
  {
   "cell_type": "code",
   "execution_count": 45,
   "metadata": {},
   "outputs": [],
   "source": [
    "def linearRegCostFunction(X, y, theta, lmbda):\n",
    "    \n",
    "    theta = np.reshape(theta, (-1, y.shape[1]))\n",
    "    m= len(y)\n",
    "    \n",
    "    J = np.sum(np.power((np.dot(X, theta) - y),2))/(2*m) + np.dot(lmbda, sum((theta[1:])**2)/(2*m))\n",
    "    grad = 1/m * np.dot(X.T, np.dot(X, theta) - y) + np.dot(lmbda, theta)/(m)\n",
    "    \n",
    "    # unregularize first gradient\n",
    "    grad_no_reg = 1/m * np.dot(X.T, np.dot(X,theta) - y)\n",
    "    grad[0] = grad_no_reg[0]\n",
    "    \n",
    "    return J, grad.flatten()"
   ]
  },
  {
   "cell_type": "code",
   "execution_count": 46,
   "metadata": {
    "scrolled": true
   },
   "outputs": [],
   "source": [
    "J, grad = linearRegCostFunction(X_1, df['y'], theta, 1)"
   ]
  },
  {
   "cell_type": "code",
   "execution_count": 47,
   "metadata": {},
   "outputs": [
    {
     "data": {
      "text/plain": [
       "array([303.99319222])"
      ]
     },
     "execution_count": 47,
     "metadata": {},
     "output_type": "execute_result"
    }
   ],
   "source": [
    "J"
   ]
  },
  {
   "cell_type": "code",
   "execution_count": 48,
   "metadata": {},
   "outputs": [
    {
     "data": {
      "text/plain": [
       "array([-15.30301567, 598.25074417])"
      ]
     },
     "execution_count": 48,
     "metadata": {},
     "output_type": "execute_result"
    }
   ],
   "source": [
    "grad"
   ]
  },
  {
   "cell_type": "markdown",
   "metadata": {},
   "source": [
    "### Fit linear regression line"
   ]
  },
  {
   "cell_type": "code",
   "execution_count": 49,
   "metadata": {
    "collapsed": true
   },
   "outputs": [],
   "source": [
    "def trainLinearReg(X, y, lmbda):\n",
    "    initial_theta = np.zeros((X.shape[1], 1))\n",
    "    \n",
    "    def costFunction(theta):\n",
    "        return linearRegCostFunction(X, y, theta, lmbda)\n",
    "    \n",
    "    results = opt.minimize(costFunction, \n",
    "                           x0=initial_theta, \n",
    "                           options={'disp': True, 'maxiter':200}, \n",
    "                           method=\"L-BFGS-B\", jac=True)\n",
    "    theta = results.x\n",
    "    return theta"
   ]
  },
  {
   "cell_type": "code",
   "execution_count": 50,
   "metadata": {},
   "outputs": [],
   "source": [
    "theta = trainLinearReg(X_1, df['y'], 1)"
   ]
  },
  {
   "cell_type": "code",
   "execution_count": 51,
   "metadata": {},
   "outputs": [
    {
     "data": {
      "text/plain": [
       "array([13.08771416,  0.367742  ])"
      ]
     },
     "execution_count": 51,
     "metadata": {},
     "output_type": "execute_result"
    }
   ],
   "source": [
    "theta"
   ]
  },
  {
   "cell_type": "code",
   "execution_count": 52,
   "metadata": {},
   "outputs": [
    {
     "data": {
      "image/png": "[encoded data removed]",
      "text/plain": [
       "<matplotlib.figure.Figure at 0x1184fb978>"
      ]
     },
     "metadata": {},
     "output_type": "display_data"
    }
   ],
   "source": [
    "fig, ax = plt.subplots(figsize=(8,4))\n",
    "ax.set_ylabel('Water flowing out of the dam')\n",
    "ax.set_xlabel('Change in water levels')\n",
    "plt.title('Fit linear regresson')\n",
    "plt.scatter(df['X'], df['y'], marker='x')\n",
    "plt.plot(df['X'], np.dot(np.insert(df['X'], 0, 1, axis=1), theta));"
   ]
  },
  {
   "cell_type": "markdown",
   "metadata": {},
   "source": [
    "### Ex. 2 Learning curve"
   ]
  },
  {
   "cell_type": "code",
   "execution_count": 53,
   "metadata": {
    "collapsed": true
   },
   "outputs": [],
   "source": [
    "def learningCurve(X, y, Xval, yval, lmbda):\n",
    "    error_train = []\n",
    "    error_val = []\n",
    "    m = len(y)\n",
    "    for i in range(1, X.shape[0]+1):\n",
    "        theta = trainLinearReg(X[:i], y[:i], lmbda)\n",
    "        error_train.append(linearRegCostFunction(X[:i], y[:i], theta, lmbda)[0])\n",
    "        error_val.append(linearRegCostFunction(Xval, yval, theta, lmbda)[0])\n",
    "    return error_train, error_val"
   ]
  },
  {
   "cell_type": "code",
   "execution_count": 54,
   "metadata": {},
   "outputs": [],
   "source": [
    "error_train, error_val = learningCurve(X_1, df['y'], Xval_1, df['yval'], 1)"
   ]
  },
  {
   "cell_type": "code",
   "execution_count": 55,
   "metadata": {},
   "outputs": [
    {
     "data": {
      "text/plain": [
       "[array([138.84677698]),\n",
       " array([110.64774544]),\n",
       " array([44.97891335]),\n",
       " array([48.34641328]),\n",
       " array([35.86334576]),\n",
       " array([33.82763432]),\n",
       " array([31.97009308]),\n",
       " array([30.8628761]),\n",
       " array([31.13690081]),\n",
       " array([28.93857186]),\n",
       " array([29.55419285]),\n",
       " array([29.43639657])]"
      ]
     },
     "execution_count": 55,
     "metadata": {},
     "output_type": "execute_result"
    }
   ],
   "source": [
    "error_val"
   ]
  },
  {
   "cell_type": "code",
   "execution_count": 56,
   "metadata": {},
   "outputs": [],
   "source": [
    "m = len(df['y'])"
   ]
  },
  {
   "cell_type": "code",
   "execution_count": 57,
   "metadata": {},
   "outputs": [
    {
     "data": {
      "image/png": "[encoded data removed]",
      "text/plain": [
       "<matplotlib.figure.Figure at 0x118403710>"
      ]
     },
     "metadata": {},
     "output_type": "display_data"
    }
   ],
   "source": [
    "fig, ax = plt.subplots(figsize=(8,4))\n",
    "ax.set_ylabel('Error')\n",
    "ax.set_xlabel('Sample size')\n",
    "plt.title('Learning curve')\n",
    "plt.plot(range(1,m+1), error_train, label='Train')\n",
    "plt.plot(range(1,m+1), error_val, label='Cross Validation');"
   ]
  },
  {
   "cell_type": "markdown",
   "metadata": {},
   "source": [
    "### Ex. 3 Polynomial features"
   ]
  },
  {
   "cell_type": "code",
   "execution_count": 91,
   "metadata": {
    "collapsed": true
   },
   "outputs": [],
   "source": [
    "def polyFeatures(X,p):\n",
    "    X_poly = X\n",
    "    if p >= 2:\n",
    "        for k in range(1,p):\n",
    "            X_poly = np.column_stack((X_poly, np.power(X,k+1)))\n",
    "    return X_poly"
   ]
  },
  {
   "cell_type": "code",
   "execution_count": 92,
   "metadata": {
    "collapsed": true
   },
   "outputs": [],
   "source": [
    "def featureNormalize(X):\n",
    "    mu = np.mean(X, axis=0)\n",
    "    X_norm = X - mu\n",
    "    sigma = np.std(X_norm, axis=0)\n",
    "    X_norm = X_norm/sigma\n",
    "    return X_norm, mu, sigma"
   ]
  },
  {
   "cell_type": "code",
   "execution_count": 93,
   "metadata": {
    "collapsed": true
   },
   "outputs": [],
   "source": [
    "poly_X = polyFeatures(df['X'], 8)"
   ]
  },
  {
   "cell_type": "code",
   "execution_count": 94,
   "metadata": {},
   "outputs": [
    {
     "data": {
      "text/plain": [
       "(12, 8)"
      ]
     },
     "execution_count": 94,
     "metadata": {},
     "output_type": "execute_result"
    }
   ],
   "source": [
    "poly_X.shape"
   ]
  },
  {
   "cell_type": "code",
   "execution_count": 95,
   "metadata": {},
   "outputs": [],
   "source": [
    "norm_X, mu, sigma = featureNormalize(poly_X)"
   ]
  },
  {
   "cell_type": "code",
   "execution_count": 96,
   "metadata": {},
   "outputs": [
    {
     "data": {
      "text/plain": [
       "array([[-3.78243704e-01, -7.88662325e-01,  1.90328720e-01,\n",
       "        -7.37591303e-01,  3.20251970e-01, -6.17151602e-01,\n",
       "         3.59835014e-01, -5.31091256e-01],\n",
       "       [-8.38920100e-01,  1.31420204e-03, -2.58961742e-01,\n",
       "        -3.41564822e-01,  9.75492734e-02, -4.55196644e-01,\n",
       "         2.66773432e-01, -4.68873807e-01],\n",
       "       [ 1.43871736e+00,  6.10831582e-01,  1.30534069e+00,\n",
       "         2.56220001e-01,  1.02186338e+00, -1.26962121e-02,\n",
       "         7.90210009e-01, -1.77926980e-01],\n",
       "       [ 1.48412330e+00,  7.38068463e-01,  1.42031240e+00,\n",
       "         4.13121830e-01,  1.15534830e+00,  1.31223708e-01,\n",
       "         9.10700224e-01, -6.22895388e-02],\n",
       "       [-1.49791929e+00,  1.93643966e+00, -2.12774745e+00,\n",
       "         2.43510061e+00, -2.51876748e+00,  2.71792174e+00,\n",
       "        -2.76331690e+00,  2.88908182e+00],\n",
       "       [-1.34409278e-01, -1.01936614e+00,  2.62563148e-01,\n",
       "        -7.72577738e-01,  3.31046537e-01, -6.21453712e-01,\n",
       "         3.61188658e-01, -5.31586524e-01],\n",
       "       [ 7.10844248e-01, -8.14713668e-01,  3.55803314e-01,\n",
       "        -7.43368461e-01,  3.41027665e-01, -6.18104683e-01,\n",
       "         3.62252117e-01, -5.31229003e-01],\n",
       "       [-1.03249041e+00,  4.71428060e-01, -6.28018432e-01,\n",
       "         9.70487696e-02, -2.28187552e-01, -1.47905228e-01,\n",
       "         4.11556057e-02, -2.78551428e-01],\n",
       "       [ 2.25683763e-01, -1.12279332e+00,  2.78115330e-01,\n",
       "        -7.76423647e-01,  3.31682056e-01, -6.21592224e-01,\n",
       "         3.61212770e-01, -5.31591435e-01],\n",
       "       [-1.36981778e+00,  1.48607235e+00, -1.61695958e+00,\n",
       "         1.55980151e+00, -1.58331392e+00,  1.45040261e+00,\n",
       "        -1.42914967e+00,  1.27857621e+00],\n",
       "       [ 4.21731046e-01, -1.06014377e+00,  2.85534542e-01,\n",
       "        -7.74969228e-01,  3.31870677e-01, -6.21559967e-01,\n",
       "         3.61217175e-01, -5.31590732e-01],\n",
       "       [ 9.70700848e-01, -4.38475085e-01,  5.33689054e-01,\n",
       "        -6.14797521e-01,  3.99629101e-01, -5.83887796e-01,\n",
       "         3.77921571e-01, -5.22927330e-01]])"
      ]
     },
     "execution_count": 96,
     "metadata": {},
     "output_type": "execute_result"
    }
   ],
   "source": [
    "norm_X"
   ]
  },
  {
   "cell_type": "code",
   "execution_count": 97,
   "metadata": {
    "collapsed": true
   },
   "outputs": [],
   "source": [
    "norm_X_1 = np.hstack(((np.ones((norm_X.shape[0], 1))), norm_X))"
   ]
  },
  {
   "cell_type": "code",
   "execution_count": 98,
   "metadata": {
    "collapsed": true
   },
   "outputs": [],
   "source": [
    "theta = trainLinearReg(norm_X_1, df['y'], 0)"
   ]
  },
  {
   "cell_type": "code",
   "execution_count": 99,
   "metadata": {},
   "outputs": [
    {
     "data": {
      "text/plain": [
       "array([ 11.21760993,   9.13620027,  18.18175205,  28.88133228,\n",
       "       -27.26555747, -74.33371257,   6.85483834,  60.57072015,\n",
       "        20.55581258])"
      ]
     },
     "execution_count": 99,
     "metadata": {},
     "output_type": "execute_result"
    }
   ],
   "source": [
    "theta"
   ]
  },
  {
   "cell_type": "code",
   "execution_count": 106,
   "metadata": {
    "collapsed": true
   },
   "outputs": [],
   "source": [
    "# Map X_poly_val and normalize (using mu and sigma)\n",
    "X_poly_val = polyFeatures(df['Xval'], 8)\n",
    "X_poly_val = X_poly_val - mu\n",
    "X_poly_val = X_poly_val / sigma\n",
    "X_poly_val = np.hstack((np.ones((X_poly_val.shape[0],1)), X_poly_val))"
   ]
  },
  {
   "cell_type": "code",
   "execution_count": 107,
   "metadata": {
    "collapsed": true
   },
   "outputs": [],
   "source": [
    "def plotFit(min_x, max_x, mu, sigma, theta, p):\n",
    "    x = np.array(np.arange(min_x - 15, max_x + 25, 0.05)) # 1D vector\n",
    "    X_poly = polyFeatures(x, p)\n",
    "    X_poly = X_poly - mu\n",
    "    X_poly = X_poly/sigma\n",
    "    X_poly = np.hstack((np.ones((x.shape[0],1)), X_poly))\n",
    "    plt.plot(x, np.dot(X_poly, theta), '--', linewidth=2)"
   ]
  },
  {
   "cell_type": "code",
   "execution_count": 114,
   "metadata": {},
   "outputs": [
    {
     "data": {
      "image/png": "[encoded data removed]",
      "text/plain": [
       "<matplotlib.figure.Figure at 0x118e9f1d0>"
      ]
     },
     "metadata": {},
     "output_type": "display_data"
    },
    {
     "data": {
      "image/png": "[encoded data removed]",
      "text/plain": [
       "<matplotlib.figure.Figure at 0x118935e48>"
      ]
     },
     "metadata": {},
     "output_type": "display_data"
    }
   ],
   "source": [
    "lambda_val = 1;\n",
    "theta = trainLinearReg(norm_X_1, df['y'], lambda_val)\n",
    "\n",
    "fig, ax = plt.subplots(figsize=(8,4))\n",
    "ax.plot(df['X'], df['y'], 'rx', markersize=10, linewidth=1.5)\n",
    "plotFit(min(df['X']), max(df['X']), mu, sigma, theta, 8)\n",
    "ax.set_xlabel('Change in water levels') \n",
    "ax.set_ylabel('Water flowing out of the dam')\n",
    "ax.set_title ('Polynomial regression fit')\n",
    "\n",
    "fig2, ax2 = plt.subplots(figsize=(8,4))\n",
    "error_train, error_val = learningCurve(norm_X_1, df['y'], X_poly_val, df['yval'], lambda_val)\n",
    "p1, p2 = ax2.plot(range(1,m+1), error_train, range(1,m+1), error_val)\n",
    "\n",
    "ax2.set_title('Polynomial Regression Learning Curve (lambda = {:f})'.format(lambda_val))\n",
    "ax2.set_xlabel('Number of training examples')\n",
    "ax2.set_ylabel('Error')\n",
    "ax2.set_xlim(0,13)\n",
    "ax2.set_ylim(0, 50)\n",
    "ax2.legend((p1, p2), ('Train', 'Cross Validation'));"
   ]
  },
  {
   "cell_type": "markdown",
   "metadata": {},
   "source": [
    "### Ex. 4 Cross validation"
   ]
  },
  {
   "cell_type": "code",
   "execution_count": 130,
   "metadata": {
    "collapsed": true
   },
   "outputs": [],
   "source": [
    "lmbda_vec = [0, 0.001, 0.003, 0.01, 0.03, 0.1, 0.3, 1, 3, 10]"
   ]
  },
  {
   "cell_type": "code",
   "execution_count": 131,
   "metadata": {
    "collapsed": true
   },
   "outputs": [],
   "source": [
    "def validationCurve(X, y, Xval, yval, lmbda_vec):\n",
    "    error_train = []\n",
    "    error_val = []\n",
    "    for i in range(len(lmbda_vec)):\n",
    "        lmbda_val = lmbda_vec[i]     \n",
    "        theta = trainLinearReg(X, y, lmbda_val)\n",
    "        error_train.append(linearRegCostFunction(X, y, theta, 0)[0])\n",
    "        error_val.append(linearRegCostFunction(Xval, yval, theta,0)[0])\n",
    "    return lmbda_vec, error_train, error_val"
   ]
  },
  {
   "cell_type": "code",
   "execution_count": 132,
   "metadata": {},
   "outputs": [],
   "source": [
    "lmbda_vec, error_train, error_val = validationCurve(norm_X_1, df['y'], X_poly_val, df['yval'], lmbda_vec)"
   ]
  },
  {
   "cell_type": "code",
   "execution_count": 133,
   "metadata": {},
   "outputs": [
    {
     "data": {
      "image/png": "[encoded data removed]",
      "text/plain": [
       "<matplotlib.figure.Figure at 0x118e742e8>"
      ]
     },
     "metadata": {},
     "output_type": "display_data"
    }
   ],
   "source": [
    "fig, ax = plt.subplots(figsize=(8,4))\n",
    "ax.set_ylabel('Error')\n",
    "ax.set_xlabel('Lambda')\n",
    "plt.title('Cross validation curve')\n",
    "plt.plot(lmbda_vec, error_train, label='Train')\n",
    "plt.plot(lmbda_vec, error_val, label='Cross Validation');"
   ]
  }
 ],
 "metadata": {
  "kernelspec": {
   "display_name": "Python 3",
   "language": "python",
   "name": "python3"
  },
  "language_info": {
   "codemirror_mode": {
    "name": "ipython",
    "version": 3
   },
   "file_extension": ".py",
   "mimetype": "text/x-python",
   "name": "python",
   "nbconvert_exporter": "python",
   "pygments_lexer": "ipython3",
   "version": "3.6.3"
  }
 },
 "nbformat": 4,
 "nbformat_minor": 2
}
