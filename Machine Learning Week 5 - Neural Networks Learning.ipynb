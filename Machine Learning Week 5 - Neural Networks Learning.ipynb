{
 "cells": [
  {
   "cell_type": "code",
   "execution_count": 3,
   "metadata": {
    "collapsed": true
   },
   "outputs": [],
   "source": [
    "import pandas as pd\n",
    "import numpy as np\n",
    "import matplotlib.pyplot as plt\n",
    "import math\n",
    "\n",
    "from scipy import io\n",
    "import scipy.optimize as opt\n",
    "from sklearn.model_selection import train_test_split\n",
    "pd.options.display.float_format = '{:.2f}'.format\n",
    "\n",
    "%matplotlib inline"
   ]
  },
  {
   "cell_type": "markdown",
   "metadata": {},
   "source": [
    "## Neural networks"
   ]
  },
  {
   "cell_type": "markdown",
   "metadata": {},
   "source": [
    "### Ex. 1 - Feed forward and cost function"
   ]
  },
  {
   "cell_type": "code",
   "execution_count": 4,
   "metadata": {},
   "outputs": [],
   "source": [
    "# read in dataset from the course\n",
    "df = scipy.io.loadmat('/Users/dorotamierzwa/Data Science/Machine Learning - Coursera/machine-learning-ex4/ex4/ex4weights.mat')"
   ]
  },
  {
   "cell_type": "code",
   "execution_count": 5,
   "metadata": {},
   "outputs": [
    {
     "data": {
      "text/plain": [
       "(25, 401)"
      ]
     },
     "execution_count": 5,
     "metadata": {},
     "output_type": "execute_result"
    }
   ],
   "source": [
    "df['Theta1'].shape"
   ]
  },
  {
   "cell_type": "code",
   "execution_count": 6,
   "metadata": {},
   "outputs": [
    {
     "data": {
      "text/plain": [
       "(10, 26)"
      ]
     },
     "execution_count": 6,
     "metadata": {},
     "output_type": "execute_result"
    }
   ],
   "source": [
    "df['Theta2'].shape"
   ]
  },
  {
   "cell_type": "code",
   "execution_count": 7,
   "metadata": {
    "collapsed": true
   },
   "outputs": [],
   "source": [
    "theta1 = df['Theta1']\n",
    "theta2 = df['Theta2']"
   ]
  },
  {
   "cell_type": "code",
   "execution_count": 8,
   "metadata": {
    "collapsed": true
   },
   "outputs": [],
   "source": [
    "# read in dataset from the course\n",
    "df2 = scipy.io.loadmat('/Users/dorotamierzwa/Data Science/Machine Learning - Coursera/machine-learning-ex4/ex4/ex4data1.mat')"
   ]
  },
  {
   "cell_type": "code",
   "execution_count": 9,
   "metadata": {
    "collapsed": true
   },
   "outputs": [],
   "source": [
    "X = df2['X']\n",
    "y = df2['y']"
   ]
  },
  {
   "cell_type": "code",
   "execution_count": 10,
   "metadata": {
    "collapsed": true
   },
   "outputs": [],
   "source": [
    "input_layer_size  = 400\n",
    "hidden_layer_size = 25\n",
    "num_labels = 10"
   ]
  },
  {
   "cell_type": "code",
   "execution_count": 11,
   "metadata": {
    "collapsed": true
   },
   "outputs": [],
   "source": [
    "nn_params = np.concatenate((theta1.flatten(), theta2.flatten()))"
   ]
  },
  {
   "cell_type": "code",
   "execution_count": 12,
   "metadata": {
    "scrolled": true
   },
   "outputs": [
    {
     "data": {
      "text/plain": [
       "(10285,)"
      ]
     },
     "execution_count": 12,
     "metadata": {},
     "output_type": "execute_result"
    }
   ],
   "source": [
    "nn_params.shape"
   ]
  },
  {
   "cell_type": "code",
   "execution_count": 13,
   "metadata": {},
   "outputs": [
    {
     "data": {
      "text/plain": [
       "(10285, 1)"
      ]
     },
     "execution_count": 13,
     "metadata": {},
     "output_type": "execute_result"
    }
   ],
   "source": [
    "nn_params = nn_params[:,np.newaxis]\n",
    "nn_params.shape"
   ]
  },
  {
   "cell_type": "code",
   "execution_count": 14,
   "metadata": {
    "collapsed": true
   },
   "outputs": [],
   "source": [
    "def sigmoid(z):\n",
    "    g = np.zeros(len(np.array([z])))\n",
    "    g = 1 / (1 + math.e**(-z))\n",
    "    return g"
   ]
  },
  {
   "cell_type": "code",
   "execution_count": 37,
   "metadata": {
    "collapsed": true
   },
   "outputs": [],
   "source": [
    "def nnCostFunction(nn_params, input_layer_size, hidden_layer_size, num_labels, X, y, lmbda):\n",
    "    m = X.shape[0]\n",
    "    a1 = np.hstack((np.ones((X.shape[0], 1)) , X))\n",
    "    a2 = np.hstack((np.ones((a1.shape[0], 1)), sigmoid(np.dot(a1, theta1.T))))\n",
    "    h3 = sigmoid(np.dot(a2, theta2.T))\n",
    "    y_k = np.zeros((m,num_labels))\n",
    "    for i in range(m):\n",
    "        y_k[i, y[i]-1] = 1\n",
    "    J = (1.0/m) * np.sum(np.sum((-y_k * np.log(h3)) - ((1-y_k) * np.log(1-h3))))\n",
    "    J += (lmbda / (2*m)) * np.sum(np.sum(theta1[:, 1:] ** 2))\n",
    "    J += (lmbda / (2*m)) * np.sum(np.sum(theta2[:, 1:] ** 2))\n",
    "    \n",
    "    return J"
   ]
  },
  {
   "cell_type": "code",
   "execution_count": 38,
   "metadata": {},
   "outputs": [
    {
     "data": {
      "text/plain": [
       "0.2876291651613189"
      ]
     },
     "execution_count": 38,
     "metadata": {},
     "output_type": "execute_result"
    }
   ],
   "source": [
    "J = nnCostFunction(nn_params, input_layer_size, hidden_layer_size, num_labels, X, y, 0)\n",
    "J"
   ]
  },
  {
   "cell_type": "code",
   "execution_count": 39,
   "metadata": {},
   "outputs": [
    {
     "data": {
      "text/plain": [
       "0.38376985909092365"
      ]
     },
     "execution_count": 39,
     "metadata": {},
     "output_type": "execute_result"
    }
   ],
   "source": [
    "# with regularization\n",
    "J = nnCostFunction(nn_params, input_layer_size, hidden_layer_size, num_labels, X, y, 1)\n",
    "J"
   ]
  },
  {
   "cell_type": "markdown",
   "metadata": {},
   "source": [
    "### Ex 2. Sigmoid gradient"
   ]
  },
  {
   "cell_type": "code",
   "execution_count": 18,
   "metadata": {
    "collapsed": true
   },
   "outputs": [],
   "source": [
    "def sigmoidGradient(z):\n",
    "    g = sigmoid(z) * (1 - sigmoid(z))\n",
    "    return g"
   ]
  },
  {
   "cell_type": "code",
   "execution_count": 19,
   "metadata": {
    "collapsed": true
   },
   "outputs": [],
   "source": [
    "z = np.array((-1, -0.5, 0, 0.5, 1))"
   ]
  },
  {
   "cell_type": "code",
   "execution_count": 20,
   "metadata": {},
   "outputs": [
    {
     "data": {
      "text/plain": [
       "array([0.19661193, 0.23500371, 0.25      , 0.23500371, 0.19661193])"
      ]
     },
     "execution_count": 20,
     "metadata": {},
     "output_type": "execute_result"
    }
   ],
   "source": [
    "sigmoidGradient(z)"
   ]
  },
  {
   "cell_type": "markdown",
   "metadata": {},
   "source": [
    "### Ex 3. Randomly initialize weights"
   ]
  },
  {
   "cell_type": "code",
   "execution_count": 24,
   "metadata": {
    "collapsed": true
   },
   "outputs": [],
   "source": [
    "def randInitializeWeights(l_in, l_out):\n",
    "    epsilon_init = 0.12\n",
    "    weights = np.random.rand(l_out, l_in + 1) * 2 * epsilon_init - epsilon_init\n",
    "    return weights"
   ]
  },
  {
   "cell_type": "code",
   "execution_count": 25,
   "metadata": {},
   "outputs": [],
   "source": [
    "initial_Theta1 = randInitializeWeights(input_layer_size, hidden_layer_size)\n",
    "initial_Theta2 = randInitializeWeights(hidden_layer_size, num_labels)"
   ]
  },
  {
   "cell_type": "code",
   "execution_count": 26,
   "metadata": {},
   "outputs": [
    {
     "data": {
      "text/plain": [
       "(25, 401)"
      ]
     },
     "execution_count": 26,
     "metadata": {},
     "output_type": "execute_result"
    }
   ],
   "source": [
    "initial_Theta1.shape"
   ]
  },
  {
   "cell_type": "code",
   "execution_count": 27,
   "metadata": {
    "collapsed": true
   },
   "outputs": [],
   "source": [
    "initial_nn_params = np.concatenate((initial_Theta1.flatten(), initial_Theta2.flatten()))"
   ]
  },
  {
   "cell_type": "code",
   "execution_count": 28,
   "metadata": {},
   "outputs": [
    {
     "data": {
      "text/plain": [
       "(10285,)"
      ]
     },
     "execution_count": 28,
     "metadata": {},
     "output_type": "execute_result"
    }
   ],
   "source": [
    "initial_nn_params.shape"
   ]
  },
  {
   "cell_type": "markdown",
   "metadata": {},
   "source": [
    "### Ex 4. Backpropagation"
   ]
  },
  {
   "cell_type": "code",
   "execution_count": 53,
   "metadata": {},
   "outputs": [],
   "source": [
    "def nnBacpropagation(nn_params, input_layer_size, hidden_layer_size, num_labels, X, y, lmbda):\n",
    "    theta1 = nn_params[:((input_layer_size+1) * hidden_layer_size)].reshape(hidden_layer_size, input_layer_size+1)\n",
    "    theta2 = nn_params[((input_layer_size+1) * hidden_layer_size ):].reshape(num_labels, hidden_layer_size+1)\n",
    "    \n",
    "    m = X.shape[0]\n",
    "    J = 0\n",
    "    X = np.hstack((np.ones((m,1)),X))\n",
    "    y_k = np.zeros((m,num_labels))\n",
    "    \n",
    "    a1 = sigmoid(np.dot(X, theta1.T))\n",
    "    a1 = np.hstack((np.ones((m,1)), a1)) \n",
    "    a2 = sigmoid(np.dot(a1, theta2.T)) \n",
    "    \n",
    "    for i in range(m):\n",
    "        y_k[i, y[i]-1] = 1\n",
    "    for j in range(num_labels):\n",
    "        J = J + sum(-y_k[:,j] * np.log(a2[:,j]) - (1-y_k[:,j])*np.log(1-a2[:,j]))\n",
    "    \n",
    "    cost = 1/m* J\n",
    "    reg_J = cost + lmbda/(2*m) * (np.sum(theta1[:,1:]**2) + np.sum(theta2[:,1:]**2))\n",
    "        \n",
    "    grad1 = np.zeros((theta1.shape))\n",
    "    grad2 = np.zeros((theta2.shape))\n",
    "    \n",
    "    for i in range(m):\n",
    "        xi = X[i,:] \n",
    "        a1i = a1[i,:] \n",
    "        a2i = a2[i,:] \n",
    "        d2 = a2i - y_k[i,:]\n",
    "        d1 = np.dot(theta2.T, d2.T) * sigmoidGradient(np.hstack((1, np.dot(xi, theta1.T))))\n",
    "        grad1 = grad1 + np.dot(d1[1:][:,np.newaxis], xi[:,np.newaxis].T)\n",
    "        grad2 = grad2 + np.dot(d2.T[:,np.newaxis], a1i[:,np.newaxis].T)\n",
    "        \n",
    "    grad1 = 1/m * grad1\n",
    "    grad2 = 1/m * grad2\n",
    "    \n",
    "    grad1_reg = grad1 + (lmbda/m) * np.hstack((np.zeros((theta1.shape[0],1)),theta1[:,1:]))\n",
    "    grad2_reg = grad2 + (lmbda/m) * np.hstack((np.zeros((theta2.shape[0],1)),theta2[:,1:]))\n",
    "    \n",
    "    return grad1, grad2, reg_J, grad1_reg, grad2_reg"
   ]
  },
  {
   "cell_type": "code",
   "execution_count": 56,
   "metadata": {
    "collapsed": true
   },
   "outputs": [],
   "source": [
    "def gradientDescentnn(X, y, initial_nn_params, alpha, num_iters, lmbda, input_layer_size, hidden_layer_size, \n",
    "                      num_labels):\n",
    "    theta1 = initial_nn_params[:((input_layer_size+1) * hidden_layer_size)].reshape(hidden_layer_size, input_layer_size+1)\n",
    "    theta2 = initial_nn_params[((input_layer_size+1) * hidden_layer_size ):].reshape(num_labels, hidden_layer_size+1)\n",
    "    \n",
    "    m = len(y)\n",
    "    J_history =[]\n",
    "    \n",
    "    for i in range(num_iters):\n",
    "        nn_params = np.append(theta1.flatten(),theta2.flatten())\n",
    "        grad1, grad2, cost = nnBacpropagation(nn_params, input_layer_size, hidden_layer_size, num_labels, X, y, lmbda)[:3]\n",
    "        theta1 = theta1 - (alpha * grad1)\n",
    "        theta2 = theta2 - (alpha * grad2)\n",
    "        J_history.append(cost)\n",
    "    \n",
    "    nn_paramsFinal = np.append(theta1.flatten(),theta2.flatten())\n",
    "    \n",
    "    return nn_paramsFinal, J_history"
   ]
  },
  {
   "cell_type": "code",
   "execution_count": 57,
   "metadata": {},
   "outputs": [],
   "source": [
    "nnTheta, nnJ_history = gradientDescentnn(X, y, initial_nn_params, 0.8, 800, 1, input_layer_size, \n",
    "                                         hidden_layer_size, num_labels)\n",
    "theta1 = nnTheta[:((input_layer_size+1) * hidden_layer_size)].reshape(hidden_layer_size, input_layer_size+1)\n",
    "theta2 = nnTheta[((input_layer_size+1) * hidden_layer_size ):].reshape(num_labels, hidden_layer_size+1)"
   ]
  },
  {
   "cell_type": "code",
   "execution_count": 58,
   "metadata": {
    "collapsed": true
   },
   "outputs": [],
   "source": [
    "def predict(theta1, theta2, X):\n",
    "    m= X.shape[0]\n",
    "    X = np.hstack((np.ones((m,1)),X))\n",
    "    \n",
    "    a1 = sigmoid(np.dot(X, theta1.T))\n",
    "    a1 = np.hstack((np.ones((m,1)), a1)) # hidden layer\n",
    "    a2 = sigmoid(np.dot(a1, theta2.T) # output layer\n",
    "    return np.argmax(a2, axis=1)+1"
   ]
  },
  {
   "cell_type": "code",
   "execution_count": 60,
   "metadata": {},
   "outputs": [
    {
     "name": "stdout",
     "output_type": "stream",
     "text": [
      "Training set accuracy: 94.6 %\n"
     ]
    }
   ],
   "source": [
    "pred = predict(theta1, theta2, X)\n",
    "print(\"Training set accuracy:\", sum(pred[:, np.newaxis]==y)[0]/5000*100, \"%\")"
   ]
  },
  {
   "cell_type": "code",
   "execution_count": null,
   "metadata": {
    "collapsed": true
   },
   "outputs": [],
   "source": []
  }
 ],
 "metadata": {
  "kernelspec": {
   "display_name": "Python 3",
   "language": "python",
   "name": "python3"
  },
  "language_info": {
   "codemirror_mode": {
    "name": "ipython",
    "version": 3
   },
   "file_extension": ".py",
   "mimetype": "text/x-python",
   "name": "python",
   "nbconvert_exporter": "python",
   "pygments_lexer": "ipython3",
   "version": "3.6.3"
  }
 },
 "nbformat": 4,
 "nbformat_minor": 2
}
